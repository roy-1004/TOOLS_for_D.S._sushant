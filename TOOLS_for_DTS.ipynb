{
 "cells": [
  {
   "cell_type": "markdown",
   "id": "81e2f6ba",
   "metadata": {},
   "source": [
    "# My Jupyter Notebook on IBM Watson Studio"
   ]
  },
  {
   "cell_type": "markdown",
   "id": "599a798a",
   "metadata": {},
   "source": [
    "__sushant yadav__<br>student(aspiring D.S.)"
   ]
  },
  {
   "cell_type": "markdown",
   "id": "19815e80",
   "metadata": {},
   "source": [
    "\n",
    "*I am interested in data science because i want to become a datascietist under the industry of Finance ,I want to help clients to make best investments , having huge command of Data science it will personally help me to make good financial decisions*"
   ]
  },
  {
   "cell_type": "markdown",
   "id": "c5ea3f91",
   "metadata": {},
   "source": [
    "### code for checking a palindrome"
   ]
  },
  {
   "cell_type": "code",
   "execution_count": 7,
   "id": "0ba60876",
   "metadata": {},
   "outputs": [
    {
     "data": {
      "text/plain": [
       "True"
      ]
     },
     "execution_count": 7,
     "metadata": {},
     "output_type": "execute_result"
    }
   ],
   "source": [
    "s='racecar'\n",
    "s.lower()==s[::-1].lower()"
   ]
  },
  {
   "cell_type": "markdown",
   "id": "d5535247",
   "metadata": {},
   "source": [
    "# BLOCKED QUOTES\n",
    "This course by coursera is:\n",
    "> very useful for data science enthusiasts.Good luck everyone.\n",
    "\n",
    "# TABLES\n",
    "\n",
    "Markdown | Less | Pretty\n",
    "--- | --- | ---\n",
    "*Still* | `renders` | **nicely**\n",
    "1 | 2 | 3\n",
    "\n",
    "# ORDERED LISTS (my favourite cities)\n",
    " 1. New york\n",
    " 2. Seoul\n",
    " 3. Amsterdam\n",
    " 4. New Delhi\n",
    " \n",
    " # IMAGES\n",
    " ![](https://www.orangesmile.com/common/img_cities_original/new-delhi--2106102-6.jpg)"
   ]
  },
  {
   "cell_type": "code",
   "execution_count": null,
   "id": "37aee9b0",
   "metadata": {},
   "outputs": [],
   "source": []
  }
 ],
 "metadata": {
  "kernelspec": {
   "display_name": "Python 3 (ipykernel)",
   "language": "python",
   "name": "python3"
  },
  "language_info": {
   "codemirror_mode": {
    "name": "ipython",
    "version": 3
   },
   "file_extension": ".py",
   "mimetype": "text/x-python",
   "name": "python",
   "nbconvert_exporter": "python",
   "pygments_lexer": "ipython3",
   "version": "3.10.5"
  }
 },
 "nbformat": 4,
 "nbformat_minor": 5
}
